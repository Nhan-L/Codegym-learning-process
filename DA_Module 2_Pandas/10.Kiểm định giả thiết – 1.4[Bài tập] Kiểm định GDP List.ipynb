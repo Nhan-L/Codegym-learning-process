{
 "cells": [
  {
   "cell_type": "code",
   "execution_count": 14,
   "id": "eae83a25",
   "metadata": {},
   "outputs": [],
   "source": [
    "import pandas as pd\n",
    "from scipy import stats\n",
    "import matplotlib.pyplot as plt\n",
    "import seaborn as sns\n",
    "import numpy as np"
   ]
  },
  {
   "cell_type": "code",
   "execution_count": 6,
   "id": "aa7f1486",
   "metadata": {},
   "outputs": [
    {
     "data": {
      "text/html": [
       "<div>\n",
       "<style scoped>\n",
       "    .dataframe tbody tr th:only-of-type {\n",
       "        vertical-align: middle;\n",
       "    }\n",
       "\n",
       "    .dataframe tbody tr th {\n",
       "        vertical-align: top;\n",
       "    }\n",
       "\n",
       "    .dataframe thead th {\n",
       "        text-align: right;\n",
       "    }\n",
       "</style>\n",
       "<table border=\"1\" class=\"dataframe\">\n",
       "  <thead>\n",
       "    <tr style=\"text-align: right;\">\n",
       "      <th></th>\n",
       "      <th>Country</th>\n",
       "      <th>Continent</th>\n",
       "      <th>GDP (millions of US$)</th>\n",
       "    </tr>\n",
       "  </thead>\n",
       "  <tbody>\n",
       "    <tr>\n",
       "      <th>0</th>\n",
       "      <td>Afghanistan</td>\n",
       "      <td>Asia</td>\n",
       "      <td>18181</td>\n",
       "    </tr>\n",
       "    <tr>\n",
       "      <th>1</th>\n",
       "      <td>Albania</td>\n",
       "      <td>Europe</td>\n",
       "      <td>12847</td>\n",
       "    </tr>\n",
       "    <tr>\n",
       "      <th>2</th>\n",
       "      <td>Algeria</td>\n",
       "      <td>Africa</td>\n",
       "      <td>190709</td>\n",
       "    </tr>\n",
       "    <tr>\n",
       "      <th>3</th>\n",
       "      <td>Angola</td>\n",
       "      <td>Africa</td>\n",
       "      <td>100948</td>\n",
       "    </tr>\n",
       "    <tr>\n",
       "      <th>4</th>\n",
       "      <td>Argentina</td>\n",
       "      <td>South America</td>\n",
       "      <td>447644</td>\n",
       "    </tr>\n",
       "  </tbody>\n",
       "</table>\n",
       "</div>"
      ],
      "text/plain": [
       "        Country      Continent  GDP (millions of US$)\n",
       "0   Afghanistan           Asia                  18181\n",
       "1       Albania         Europe                  12847\n",
       "2       Algeria         Africa                 190709\n",
       "3        Angola         Africa                 100948\n",
       "4     Argentina  South America                 447644"
      ]
     },
     "execution_count": 6,
     "metadata": {},
     "output_type": "execute_result"
    }
   ],
   "source": [
    "df = pd.read_csv('Database_practice\\GDPlist.csv', encoding = 'ISO-8859-1')\n",
    "df.head()"
   ]
  },
  {
   "cell_type": "markdown",
   "id": "4a3590c4",
   "metadata": {},
   "source": [
    "# THỰC HIỆN CÁC KIỂM ĐỊNH SAU:\n"
   ]
  },
  {
   "cell_type": "markdown",
   "id": "2b5965c6",
   "metadata": {},
   "source": [
    "# 1.Trung bình GDP của các quốc gia trên thế giới là 500 tỉ usd/năm\n"
   ]
  },
  {
   "cell_type": "code",
   "execution_count": 7,
   "id": "dc4da417",
   "metadata": {},
   "outputs": [
    {
     "data": {
      "text/html": [
       "<div>\n",
       "<style scoped>\n",
       "    .dataframe tbody tr th:only-of-type {\n",
       "        vertical-align: middle;\n",
       "    }\n",
       "\n",
       "    .dataframe tbody tr th {\n",
       "        vertical-align: top;\n",
       "    }\n",
       "\n",
       "    .dataframe thead th {\n",
       "        text-align: right;\n",
       "    }\n",
       "</style>\n",
       "<table border=\"1\" class=\"dataframe\">\n",
       "  <thead>\n",
       "    <tr style=\"text-align: right;\">\n",
       "      <th></th>\n",
       "      <th>Country</th>\n",
       "      <th>Continent</th>\n",
       "      <th>GDP (millions of US$)</th>\n",
       "      <th>GDP (billions of US$)</th>\n",
       "    </tr>\n",
       "  </thead>\n",
       "  <tbody>\n",
       "    <tr>\n",
       "      <th>0</th>\n",
       "      <td>Afghanistan</td>\n",
       "      <td>Asia</td>\n",
       "      <td>18181</td>\n",
       "      <td>18.181</td>\n",
       "    </tr>\n",
       "    <tr>\n",
       "      <th>1</th>\n",
       "      <td>Albania</td>\n",
       "      <td>Europe</td>\n",
       "      <td>12847</td>\n",
       "      <td>12.847</td>\n",
       "    </tr>\n",
       "    <tr>\n",
       "      <th>2</th>\n",
       "      <td>Algeria</td>\n",
       "      <td>Africa</td>\n",
       "      <td>190709</td>\n",
       "      <td>190.709</td>\n",
       "    </tr>\n",
       "    <tr>\n",
       "      <th>3</th>\n",
       "      <td>Angola</td>\n",
       "      <td>Africa</td>\n",
       "      <td>100948</td>\n",
       "      <td>100.948</td>\n",
       "    </tr>\n",
       "    <tr>\n",
       "      <th>4</th>\n",
       "      <td>Argentina</td>\n",
       "      <td>South America</td>\n",
       "      <td>447644</td>\n",
       "      <td>447.644</td>\n",
       "    </tr>\n",
       "  </tbody>\n",
       "</table>\n",
       "</div>"
      ],
      "text/plain": [
       "        Country      Continent  GDP (millions of US$)  GDP (billions of US$)\n",
       "0   Afghanistan           Asia                  18181                 18.181\n",
       "1       Albania         Europe                  12847                 12.847\n",
       "2       Algeria         Africa                 190709                190.709\n",
       "3        Angola         Africa                 100948                100.948\n",
       "4     Argentina  South America                 447644                447.644"
      ]
     },
     "execution_count": 7,
     "metadata": {},
     "output_type": "execute_result"
    }
   ],
   "source": [
    "df ['GDP (billions of US$)'] = df ['GDP (millions of US$)'] / 1000\n",
    "df.head()"
   ]
  },
  {
   "cell_type": "code",
   "execution_count": 8,
   "id": "5ea17b1e",
   "metadata": {},
   "outputs": [
    {
     "name": "stdout",
     "output_type": "stream",
     "text": [
      "t_statistic = 0.37574386695183365\n",
      "p_value 0.7077493494055246\n"
     ]
    }
   ],
   "source": [
    "# Sử dụng kiểm định One sample T test với hàm ttest_1samp với kiểm định hai phía (khác 500 tỉ là được)\n",
    "t_statistic, p_value = stats.ttest_1samp(a=df ['GDP (billions of US$)'],popmean=500)\n",
    "print('t_statistic =', t_statistic)\n",
    "print('p_value',p_value)"
   ]
  },
  {
   "cell_type": "markdown",
   "id": "11217503",
   "metadata": {},
   "source": [
    "Đọc kết quả\n",
    "\n",
    "- H0 - Trung bình GDP của các quốc gia trên thế giới = 500 tỉ usd/năm\n",
    "- HA - Trung bình GDP của các quốc gia trên thế giới != 500 tỉ usd/năm, Giả sử alpha = 0.05, ta thấy pvalue = 0.707 > alpha. Vì vậy với độ sai lệch là 5% thì H0 được chấp nhận, HA sai"
   ]
  },
  {
   "cell_type": "markdown",
   "id": "5751e66f",
   "metadata": {},
   "source": [
    "# 2.GDP trung bình ở các quốc gia ở châu Âu cao hơn châu Á không\n"
   ]
  },
  {
   "cell_type": "code",
   "execution_count": null,
   "id": "8afd2ca2",
   "metadata": {},
   "outputs": [],
   "source": [
    "# Sử dụng kiểm định Independent T test với hàm ttest_ind với kiểm định phải"
   ]
  },
  {
   "cell_type": "code",
   "execution_count": 9,
   "id": "656c2feb",
   "metadata": {},
   "outputs": [
    {
     "data": {
      "text/html": [
       "<div>\n",
       "<style scoped>\n",
       "    .dataframe tbody tr th:only-of-type {\n",
       "        vertical-align: middle;\n",
       "    }\n",
       "\n",
       "    .dataframe tbody tr th {\n",
       "        vertical-align: top;\n",
       "    }\n",
       "\n",
       "    .dataframe thead th {\n",
       "        text-align: right;\n",
       "    }\n",
       "</style>\n",
       "<table border=\"1\" class=\"dataframe\">\n",
       "  <thead>\n",
       "    <tr style=\"text-align: right;\">\n",
       "      <th></th>\n",
       "      <th>Country</th>\n",
       "      <th>Continent</th>\n",
       "      <th>GDP (millions of US$)</th>\n",
       "      <th>GDP (billions of US$)</th>\n",
       "    </tr>\n",
       "  </thead>\n",
       "  <tbody>\n",
       "    <tr>\n",
       "      <th>1</th>\n",
       "      <td>Albania</td>\n",
       "      <td>Europe</td>\n",
       "      <td>12847</td>\n",
       "      <td>12.847</td>\n",
       "    </tr>\n",
       "    <tr>\n",
       "      <th>6</th>\n",
       "      <td>Austria</td>\n",
       "      <td>Europe</td>\n",
       "      <td>419243</td>\n",
       "      <td>419.243</td>\n",
       "    </tr>\n",
       "    <tr>\n",
       "      <th>7</th>\n",
       "      <td>Azerbaijan</td>\n",
       "      <td>Europe</td>\n",
       "      <td>62321</td>\n",
       "      <td>62.321</td>\n",
       "    </tr>\n",
       "    <tr>\n",
       "      <th>10</th>\n",
       "      <td>Belarus</td>\n",
       "      <td>Europe</td>\n",
       "      <td>55483</td>\n",
       "      <td>55.483</td>\n",
       "    </tr>\n",
       "    <tr>\n",
       "      <th>11</th>\n",
       "      <td>Belgium</td>\n",
       "      <td>Europe</td>\n",
       "      <td>513396</td>\n",
       "      <td>513.396</td>\n",
       "    </tr>\n",
       "  </tbody>\n",
       "</table>\n",
       "</div>"
      ],
      "text/plain": [
       "        Country Continent  GDP (millions of US$)  GDP (billions of US$)\n",
       "1       Albania    Europe                  12847                 12.847\n",
       "6       Austria    Europe                 419243                419.243\n",
       "7    Azerbaijan    Europe                  62321                 62.321\n",
       "10      Belarus    Europe                  55483                 55.483\n",
       "11      Belgium    Europe                 513396                513.396"
      ]
     },
     "execution_count": 9,
     "metadata": {},
     "output_type": "execute_result"
    }
   ],
   "source": [
    "# Lấy thông tin GDP các quốc gia châu âu\n",
    "df_Europe = df.loc[(df.Continent == 'Europe')]\n",
    "df_Europe.head()"
   ]
  },
  {
   "cell_type": "code",
   "execution_count": 10,
   "id": "c5b86bb3",
   "metadata": {},
   "outputs": [
    {
     "data": {
      "text/html": [
       "<div>\n",
       "<style scoped>\n",
       "    .dataframe tbody tr th:only-of-type {\n",
       "        vertical-align: middle;\n",
       "    }\n",
       "\n",
       "    .dataframe tbody tr th {\n",
       "        vertical-align: top;\n",
       "    }\n",
       "\n",
       "    .dataframe thead th {\n",
       "        text-align: right;\n",
       "    }\n",
       "</style>\n",
       "<table border=\"1\" class=\"dataframe\">\n",
       "  <thead>\n",
       "    <tr style=\"text-align: right;\">\n",
       "      <th></th>\n",
       "      <th>Country</th>\n",
       "      <th>Continent</th>\n",
       "      <th>GDP (millions of US$)</th>\n",
       "      <th>GDP (billions of US$)</th>\n",
       "    </tr>\n",
       "  </thead>\n",
       "  <tbody>\n",
       "    <tr>\n",
       "      <th>0</th>\n",
       "      <td>Afghanistan</td>\n",
       "      <td>Asia</td>\n",
       "      <td>18181</td>\n",
       "      <td>18.181</td>\n",
       "    </tr>\n",
       "    <tr>\n",
       "      <th>8</th>\n",
       "      <td>Bahrain</td>\n",
       "      <td>Asia</td>\n",
       "      <td>26108</td>\n",
       "      <td>26.108</td>\n",
       "    </tr>\n",
       "    <tr>\n",
       "      <th>9</th>\n",
       "      <td>Bangladesh</td>\n",
       "      <td>Asia</td>\n",
       "      <td>113032</td>\n",
       "      <td>113.032</td>\n",
       "    </tr>\n",
       "    <tr>\n",
       "      <th>16</th>\n",
       "      <td>Brunei</td>\n",
       "      <td>Asia</td>\n",
       "      <td>15533</td>\n",
       "      <td>15.533</td>\n",
       "    </tr>\n",
       "    <tr>\n",
       "      <th>18</th>\n",
       "      <td>Burma</td>\n",
       "      <td>Asia</td>\n",
       "      <td>51925</td>\n",
       "      <td>51.925</td>\n",
       "    </tr>\n",
       "  </tbody>\n",
       "</table>\n",
       "</div>"
      ],
      "text/plain": [
       "         Country Continent  GDP (millions of US$)  GDP (billions of US$)\n",
       "0    Afghanistan      Asia                  18181                 18.181\n",
       "8        Bahrain      Asia                  26108                 26.108\n",
       "9     Bangladesh      Asia                 113032                113.032\n",
       "16        Brunei      Asia                  15533                 15.533\n",
       "18         Burma      Asia                  51925                 51.925"
      ]
     },
     "execution_count": 10,
     "metadata": {},
     "output_type": "execute_result"
    }
   ],
   "source": [
    "# Lấy thông tin GDP các quốc gia châu á\n",
    "df_Asia = df.loc[(df.Continent == 'Asia')]\n",
    "df_Asia.head()"
   ]
  },
  {
   "cell_type": "code",
   "execution_count": 15,
   "id": "3c052eab",
   "metadata": {},
   "outputs": [
    {
     "name": "stdout",
     "output_type": "stream",
     "text": [
      "Phương sai của df_Europe:  713338138094.1942\n",
      "Phương sai của df_Asia:  2263369364802.748\n"
     ]
    }
   ],
   "source": [
    "# Kiểm tra phương sai\n",
    "var_gp1 = np.var (df_Europe['GDP (millions of US$)'])\n",
    "var_gp2 = np.var (df_Asia['GDP (millions of US$)'])\n",
    "print(f'Phương sai của df_Europe: ',var_gp1)\n",
    "print(f'Phương sai của df_Asia: ',var_gp2)"
   ]
  },
  {
   "cell_type": "code",
   "execution_count": 16,
   "id": "6c0f82c5",
   "metadata": {},
   "outputs": [
    {
     "data": {
      "text/plain": [
       "'3.17:1'"
      ]
     },
     "execution_count": 16,
     "metadata": {},
     "output_type": "execute_result"
    }
   ],
   "source": [
    "# tỷ lệ\n",
    "ratio = f'{round(var_gp1/var_gp2,2)}:1' if var_gp1>var_gp2 else\\\n",
    "        f'{round(var_gp2/var_gp1,2)}:1'\n",
    "ratio\n",
    "# Tỷ lệ 3.17/1 thỏa mãn điều kiện nhỏ hơn tỷ lệ 4/1\n",
    "# Phương sai 2 tập dữ liệu như nhau\n",
    "# Two sample t-test hoạt động tốt nên sử dụng nó\n",
    "# Nếu nó ko đủ điều kiện thì dùng welch's t-test"
   ]
  },
  {
   "cell_type": "code",
   "execution_count": 12,
   "id": "644dc651",
   "metadata": {},
   "outputs": [
    {
     "data": {
      "text/plain": [
       "Ttest_indResult(statistic=-0.5586877419842816, pvalue=0.5781326801926456)"
      ]
     },
     "execution_count": 12,
     "metadata": {},
     "output_type": "execute_result"
    }
   ],
   "source": [
    "# Two-sample t-test\n",
    "stats.ttest_ind(a = df_Europe['GDP (millions of US$)'], b=df_Asia['GDP (millions of US$)'],equal_var=True)"
   ]
  },
  {
   "cell_type": "markdown",
   "id": "cbf8640f",
   "metadata": {},
   "source": [
    "Đọc kết quả:\n",
    "- H0: GDP trung bình ở các quốc gia ở châu Âu cao hơn châu Á\n",
    "- HA: GDP trung bình ở các quốc gia ở châu Âu bé hơn châu Á, với mức ý nghĩa alpha = 5%, ta thấy pvalue(0.57) >  alpha (0.05), Vì vậy với độ sai lệch 5% thì ta ko đủ cơ sở phủ nhận H0, nghĩa là H0 đúng (GDP trung bình ở các quốc gia ở châu Âu cao hơn châu Á) "
   ]
  },
  {
   "cell_type": "markdown",
   "id": "338752be",
   "metadata": {},
   "source": [
    "# 3.GDP trung bình của các quốc gia ở châu Âu và châu Mỹ là bằng nhau "
   ]
  },
  {
   "cell_type": "code",
   "execution_count": null,
   "id": "2d4b2039",
   "metadata": {},
   "outputs": [],
   "source": [
    "# Sử dụng kiểm định Independent T test với hàm ttest_ind với kiểm định hai phía"
   ]
  },
  {
   "cell_type": "code",
   "execution_count": 18,
   "id": "f22a6f49",
   "metadata": {},
   "outputs": [
    {
     "data": {
      "text/plain": [
       "array(['Asia', 'Europe', 'Africa', 'South America', 'Oceania',\n",
       "       'North America'], dtype=object)"
      ]
     },
     "execution_count": 18,
     "metadata": {},
     "output_type": "execute_result"
    }
   ],
   "source": [
    "df['Continent'].unique()"
   ]
  },
  {
   "cell_type": "code",
   "execution_count": 17,
   "id": "7a35da37",
   "metadata": {},
   "outputs": [
    {
     "data": {
      "text/html": [
       "<div>\n",
       "<style scoped>\n",
       "    .dataframe tbody tr th:only-of-type {\n",
       "        vertical-align: middle;\n",
       "    }\n",
       "\n",
       "    .dataframe tbody tr th {\n",
       "        vertical-align: top;\n",
       "    }\n",
       "\n",
       "    .dataframe thead th {\n",
       "        text-align: right;\n",
       "    }\n",
       "</style>\n",
       "<table border=\"1\" class=\"dataframe\">\n",
       "  <thead>\n",
       "    <tr style=\"text-align: right;\">\n",
       "      <th></th>\n",
       "      <th>Country</th>\n",
       "      <th>Continent</th>\n",
       "      <th>GDP (millions of US$)</th>\n",
       "      <th>GDP (billions of US$)</th>\n",
       "    </tr>\n",
       "  </thead>\n",
       "  <tbody>\n",
       "    <tr>\n",
       "      <th>1</th>\n",
       "      <td>Albania</td>\n",
       "      <td>Europe</td>\n",
       "      <td>12847</td>\n",
       "      <td>12.847</td>\n",
       "    </tr>\n",
       "    <tr>\n",
       "      <th>6</th>\n",
       "      <td>Austria</td>\n",
       "      <td>Europe</td>\n",
       "      <td>419243</td>\n",
       "      <td>419.243</td>\n",
       "    </tr>\n",
       "    <tr>\n",
       "      <th>7</th>\n",
       "      <td>Azerbaijan</td>\n",
       "      <td>Europe</td>\n",
       "      <td>62321</td>\n",
       "      <td>62.321</td>\n",
       "    </tr>\n",
       "    <tr>\n",
       "      <th>10</th>\n",
       "      <td>Belarus</td>\n",
       "      <td>Europe</td>\n",
       "      <td>55483</td>\n",
       "      <td>55.483</td>\n",
       "    </tr>\n",
       "    <tr>\n",
       "      <th>11</th>\n",
       "      <td>Belgium</td>\n",
       "      <td>Europe</td>\n",
       "      <td>513396</td>\n",
       "      <td>513.396</td>\n",
       "    </tr>\n",
       "  </tbody>\n",
       "</table>\n",
       "</div>"
      ],
      "text/plain": [
       "        Country Continent  GDP (millions of US$)  GDP (billions of US$)\n",
       "1       Albania    Europe                  12847                 12.847\n",
       "6       Austria    Europe                 419243                419.243\n",
       "7    Azerbaijan    Europe                  62321                 62.321\n",
       "10      Belarus    Europe                  55483                 55.483\n",
       "11      Belgium    Europe                 513396                513.396"
      ]
     },
     "execution_count": 17,
     "metadata": {},
     "output_type": "execute_result"
    }
   ],
   "source": [
    "# GDP các quốc gia châu Âu\n",
    "df_Europe.head()"
   ]
  },
  {
   "cell_type": "code",
   "execution_count": 31,
   "id": "a1d72a1f",
   "metadata": {},
   "outputs": [
    {
     "data": {
      "text/plain": [
       "517280.54054054053"
      ]
     },
     "execution_count": 31,
     "metadata": {},
     "output_type": "execute_result"
    }
   ],
   "source": [
    "df_Europe['GDP (millions of US$)'].mean()"
   ]
  },
  {
   "cell_type": "code",
   "execution_count": 32,
   "id": "9b534e6d",
   "metadata": {},
   "outputs": [
    {
     "data": {
      "text/plain": [
       "1118983.2"
      ]
     },
     "execution_count": 32,
     "metadata": {},
     "output_type": "execute_result"
    }
   ],
   "source": [
    "df_NSAmerica['GDP (millions of US$)'].mean()"
   ]
  },
  {
   "cell_type": "code",
   "execution_count": 25,
   "id": "3adf9d9f",
   "metadata": {},
   "outputs": [
    {
     "data": {
      "text/html": [
       "<div>\n",
       "<style scoped>\n",
       "    .dataframe tbody tr th:only-of-type {\n",
       "        vertical-align: middle;\n",
       "    }\n",
       "\n",
       "    .dataframe tbody tr th {\n",
       "        vertical-align: top;\n",
       "    }\n",
       "\n",
       "    .dataframe thead th {\n",
       "        text-align: right;\n",
       "    }\n",
       "</style>\n",
       "<table border=\"1\" class=\"dataframe\">\n",
       "  <thead>\n",
       "    <tr style=\"text-align: right;\">\n",
       "      <th></th>\n",
       "      <th>Country</th>\n",
       "      <th>Continent</th>\n",
       "      <th>GDP (millions of US$)</th>\n",
       "      <th>GDP (billions of US$)</th>\n",
       "    </tr>\n",
       "  </thead>\n",
       "  <tbody>\n",
       "    <tr>\n",
       "      <th>4</th>\n",
       "      <td>Argentina</td>\n",
       "      <td>South America</td>\n",
       "      <td>447644</td>\n",
       "      <td>447.644</td>\n",
       "    </tr>\n",
       "    <tr>\n",
       "      <th>15</th>\n",
       "      <td>Brazil</td>\n",
       "      <td>South America</td>\n",
       "      <td>2492908</td>\n",
       "      <td>2492.908</td>\n",
       "    </tr>\n",
       "    <tr>\n",
       "      <th>21</th>\n",
       "      <td>Canada</td>\n",
       "      <td>North America</td>\n",
       "      <td>1736869</td>\n",
       "      <td>1736.869</td>\n",
       "    </tr>\n",
       "    <tr>\n",
       "      <th>22</th>\n",
       "      <td>Chile</td>\n",
       "      <td>South America</td>\n",
       "      <td>248411</td>\n",
       "      <td>248.411</td>\n",
       "    </tr>\n",
       "    <tr>\n",
       "      <th>24</th>\n",
       "      <td>Colombia</td>\n",
       "      <td>South America</td>\n",
       "      <td>328422</td>\n",
       "      <td>328.422</td>\n",
       "    </tr>\n",
       "  </tbody>\n",
       "</table>\n",
       "</div>"
      ],
      "text/plain": [
       "       Country      Continent  GDP (millions of US$)  GDP (billions of US$)\n",
       "4    Argentina  South America                 447644                447.644\n",
       "15      Brazil  South America                2492908               2492.908\n",
       "21      Canada  North America                1736869               1736.869\n",
       "22       Chile  South America                 248411                248.411\n",
       "24    Colombia  South America                 328422                328.422"
      ]
     },
     "execution_count": 25,
     "metadata": {},
     "output_type": "execute_result"
    }
   ],
   "source": [
    "# GDP các quốc gia Châu Mỹ\n",
    "df_NSAmerica = df.loc[(df.Continent == 'South America') | (df.Continent == 'North America') ]\n",
    "df_NSAmerica.head()"
   ]
  },
  {
   "cell_type": "code",
   "execution_count": 28,
   "id": "66cc83be",
   "metadata": {},
   "outputs": [
    {
     "name": "stdout",
     "output_type": "stream",
     "text": [
      "Phương sai của df_Europe:  713338138094.1942\n",
      "Phương sai của df_NSAmerica:  10693420019104.361\n"
     ]
    }
   ],
   "source": [
    "# Kiểm tra phương sai\n",
    "var_gp3 = np.var (df_Europe['GDP (millions of US$)'])\n",
    "var_gp4 = np.var (df_NSAmerica['GDP (millions of US$)'])\n",
    "print(f'Phương sai của df_Europe: ',var_gp3)\n",
    "print(f'Phương sai của df_NSAmerica: ',var_gp4)"
   ]
  },
  {
   "cell_type": "code",
   "execution_count": 29,
   "id": "fcaeab68",
   "metadata": {},
   "outputs": [
    {
     "data": {
      "text/plain": [
       "'14.99:1'"
      ]
     },
     "execution_count": 29,
     "metadata": {},
     "output_type": "execute_result"
    }
   ],
   "source": [
    "# tỷ lệ\n",
    "ratio = f'{round(var_gp3/var_gp4,2)}:1' if var_gp3>var_gp4 else\\\n",
    "        f'{round(var_gp4/var_gp3,2)}:1'\n",
    "ratio\n",
    "# Tỷ lệ 14.99/1 không thỏa mãn điều kiện nhỏ hơn tỷ lệ 4/1\n",
    "# Phương sai 2 tập dữ liệu khác nhau\n",
    "# Two sample t-test hoạt động không tốt nên không sử dụng nó\n",
    "# Ta dùng welch's t-test"
   ]
  },
  {
   "cell_type": "code",
   "execution_count": 35,
   "id": "09cef32e",
   "metadata": {},
   "outputs": [
    {
     "name": "stdout",
     "output_type": "stream",
     "text": [
      "Ttest_indResult(statistic=-0.7882914270473153, pvalue=0.4396139393183093)\n"
     ]
    }
   ],
   "source": [
    "# Conduct Welch's t-Test and print the result\n",
    "print(stats.ttest_ind(df_Europe['GDP (millions of US$)'], df_NSAmerica['GDP (millions of US$)'], equal_var = False))"
   ]
  },
  {
   "cell_type": "markdown",
   "id": "8a684950",
   "metadata": {},
   "source": [
    "Đọc kết quả:\n",
    "\n",
    "- H0: GDP trung bình của các quốc gia ở châu Âu và châu Mỹ là bằng nhau\n",
    "- HA: GDP trung bình của các quốc gia ở châu Âu và châu Mỹ là khác nhau, với mức ý nghĩa alpha = 5%, ta thấy pvalue(0.439) > alpha (0.05), Vì vậy với độ sai lệch 5% thì ta ko đủ cơ sở phủ nhận H0, nghĩa là H0 đúng (GDP trung bình của các quốc gia ở châu Âu và châu Mỹ là bằng nhau) "
   ]
  },
  {
   "cell_type": "code",
   "execution_count": null,
   "id": "3e87a4e8",
   "metadata": {},
   "outputs": [],
   "source": []
  }
 ],
 "metadata": {
  "kernelspec": {
   "display_name": "Python 3 (ipykernel)",
   "language": "python",
   "name": "python3"
  },
  "language_info": {
   "codemirror_mode": {
    "name": "ipython",
    "version": 3
   },
   "file_extension": ".py",
   "mimetype": "text/x-python",
   "name": "python",
   "nbconvert_exporter": "python",
   "pygments_lexer": "ipython3",
   "version": "3.9.13"
  }
 },
 "nbformat": 4,
 "nbformat_minor": 5
}
